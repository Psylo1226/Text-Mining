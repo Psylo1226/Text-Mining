{
 "cells": [
  {
   "cell_type": "markdown",
   "metadata": {},
   "source": [
    "## Wprowadzenie\n",
    "\n",
    "Wyrażenia regularne (ang. *regular expressions*, Regex) to specjalne wzorce, które pozwalają na wyszukiwanie, dopasowywanie i manipulowanie tekstem. Są one niezwykle przydatne przy pracy z danymi tekstowymi.\n",
    "\n",
    "W Pythonie możemy korzystać z wyrażeń regularnych za pomocą modułu `re`.\n",
    "\n",
    "### Importowanie modułu `re`\n"
   ]
  },
  {
   "cell_type": "code",
   "execution_count": 1,
   "metadata": {},
   "outputs": [],
   "source": [
    "\n",
    "import re"
   ]
  },
  {
   "cell_type": "markdown",
   "metadata": {},
   "source": [
    "\n",
    "## Podstawowe funkcjonalności wyrażeń regularnych\n",
    "\n",
    "### Dopasowanie prostego wzorca\n",
    "\n",
    "Metoda `re.match()` sprawdza, czy ciąg znaków zaczyna się od wzorca.\n"
   ]
  },
  {
   "cell_type": "code",
   "execution_count": 2,
   "metadata": {},
   "outputs": [
    {
     "name": "stdout",
     "output_type": "stream",
     "text": [
      "Znaleziono dopasowanie: Python\n"
     ]
    }
   ],
   "source": [
    "\n",
    "tekst = \"Python jest świetny!\"\n",
    "dopasowanie = re.match(r\"Python\", tekst)\n",
    "\n",
    "if dopasowanie:\n",
    "    print(\"Znaleziono dopasowanie:\", dopasowanie.group())\n",
    "else:\n",
    "    print(\"Nie znaleziono dopasowania.\")\n"
   ]
  },
  {
   "cell_type": "markdown",
   "metadata": {},
   "source": [
    "\n",
    "### Wyszukiwanie wzorca w tekście\n",
    "\n",
    "Metoda `re.search()` przeszukuje cały ciąg znaków w poszukiwaniu dopasowania.\n"
   ]
  },
  {
   "cell_type": "code",
   "execution_count": 3,
   "metadata": {},
   "outputs": [
    {
     "name": "stdout",
     "output_type": "stream",
     "text": [
      "Znaleziono dopasowanie: Python\n"
     ]
    }
   ],
   "source": [
    "\n",
    "tekst = \"Lubię programować w Pythonie\"\n",
    "dopasowanie = re.search(r\"Python\", tekst)\n",
    "\n",
    "if dopasowanie:\n",
    "    print(\"Znaleziono dopasowanie:\", dopasowanie.group())\n",
    "else:\n",
    "    print(\"Nie znaleziono dopasowania.\")"
   ]
  },
  {
   "cell_type": "markdown",
   "metadata": {},
   "source": [
    "\n",
    "### Znajdowanie wszystkich wystąpień wzorca\n",
    "\n",
    "Metoda `re.findall()` zwraca wszystkie wystąpienia wzorca w tekście.\n"
   ]
  },
  {
   "cell_type": "code",
   "execution_count": 4,
   "metadata": {},
   "outputs": [
    {
     "name": "stdout",
     "output_type": "stream",
     "text": [
      "Znalezione dopasowania: ['Python', 'Python']\n"
     ]
    }
   ],
   "source": [
    "\n",
    "tekst = \"Python to język programowania. W Pythonie można pisać skrypty.\"\n",
    "wszystkie_dopasowania = re.findall(r\"Python\", tekst)\n",
    "\n",
    "print(\"Znalezione dopasowania:\", wszystkie_dopasowania)\n"
   ]
  },
  {
   "cell_type": "markdown",
   "metadata": {},
   "source": [
    "\n",
    "### Zamiana wzorca na inny tekst\n",
    "\n",
    "Metoda `re.sub()` służy do zamiany wzorca na inny ciąg znaków.\n"
   ]
  },
  {
   "cell_type": "code",
   "execution_count": 5,
   "metadata": {},
   "outputs": [
    {
     "name": "stdout",
     "output_type": "stream",
     "text": [
      "Tekst po zamianie: Język Java jest prosty.\n"
     ]
    }
   ],
   "source": [
    "\n",
    "tekst = \"Język Python jest prosty.\"\n",
    "nowy_tekst = re.sub(r\"Python\", \"Java\", tekst)\n",
    "\n",
    "print(\"Tekst po zamianie:\", nowy_tekst)"
   ]
  },
  {
   "cell_type": "markdown",
   "metadata": {},
   "source": [
    "\n",
    "## Znaczenie niektórych znaków specjalnych\n",
    "\n",
    "Wyrażenia regularne korzystają ze znaków specjalnych, które mają specjalne znaczenie:\n",
    "\n",
    "- `.` - Dowolny znak (poza nową linią).\n",
    "- `^` - Początek ciągu.\n",
    "- `$` - Koniec ciągu.\n",
    "- `*` - Zero lub więcej wystąpień poprzedniego znaku.\n",
    "- `+` - Jedno lub więcej wystąpień poprzedniego znaku.\n",
    "- `[]` - Dowolny znak z podanego zakresu.\n",
    "- `|` - Operator \"lub\".\n",
    "- `()` - Grupowanie wyrażeń.\n",
    "\n",
    "### Przykład z grupowaniem\n"
   ]
  },
  {
   "cell_type": "code",
   "execution_count": 7,
   "metadata": {},
   "outputs": [
    {
     "name": "stdout",
     "output_type": "stream",
     "text": [
      "Rok: 2024\n",
      "Miesiąc: 10\n",
      "Dzień: 02\n"
     ]
    }
   ],
   "source": [
    "\n",
    "tekst = \"2024-10-02\"\n",
    "wzorzec = r\"(\\d{4})-(\\d{2})-(\\d{2})\"\n",
    "dopasowanie = re.match(wzorzec, tekst)\n",
    "\n",
    "if dopasowanie:\n",
    "    print(\"Rok:\", dopasowanie.group(1))\n",
    "    print(\"Miesiąc:\", dopasowanie.group(2))\n",
    "    print(\"Dzień:\", dopasowanie.group(3))\n"
   ]
  },
  {
   "cell_type": "markdown",
   "metadata": {},
   "source": [
    "\n",
    "## Zadania do samodzielnego rozwiązania\n",
    "\n",
    "1. **Zadanie 1**: Znajdź wszystkie adresy e-mail w  tekście\n",
    "2. **Zadanie 2**: W tekście zamień wszystkie liczby na słowo \"[LICZBA]\"\n",
    "3. **Zadanie 3**: Sprawdź, czy podany numer telefonu jest w formacie XXX-XXX-XXX (gdzie X to cyfra)\n",
    "4. **Zadanie 4**: Wyszukaj wszystkie słowa, które zaczynają się od litery \"P\" w  tekście\n",
    "5. **Zadanie 5**: Podziel tekst na części, oddzielając go po znakach interpunkcyjnych\n",
    "\n"
   ]
  },
  {
   "cell_type": "code",
   "execution_count": 16,
   "metadata": {},
   "outputs": [
    {
     "name": "stdout",
     "output_type": "stream",
     "text": [
      "Znaleziono dopasowanie: ['kontakt@firma.pl.']\n",
      "Znaleziono dopasowanie: ['info@firma.com', 'info@firma.com.pl']\n",
      "Znaleziono dopasowanie: ['wsparcie@serwis.org']\n"
     ]
    }
   ],
   "source": [
    "text = [\"Skontaktuj się z nami pod adresem kontakt@firma.pl.\", \"Adres e-mail do kontaktu to: info@firma.com, ale proszę nie wysyłać maili na info@firma.com.pl, ponieważ to inny dział.\", \"W razie problemów proszę pisać na adres wsparcie@serwis.org lub odwiedzić stronę: www.serwis.org. Ważne: email wsparcie@serwisorg nie działa!\"]\n",
    "for i in text:\n",
    "    dopasowanie = re.findall(r\"[\\w.+-]+@[\\w-]+\\.[\\w.-]+\", i)\n",
    "\n",
    "    if dopasowanie:\n",
    "        print(f\"Znaleziono dopasowanie: {dopasowanie}\")\n",
    "    else:\n",
    "        print(\"Nie znaleziono dopasowania.\")"
   ]
  },
  {
   "cell_type": "code",
   "execution_count": 59,
   "metadata": {},
   "outputs": [
    {
     "name": "stdout",
     "output_type": "stream",
     "text": [
      "Tekst po zmianie: Produkt kosztuje sto złotych.\n",
      "Tekst po zmianie: Przejechaliśmy pięćset km, a na mapie było zaznaczone pięć miejsc do odpoczynku. Mój adres to sto dwadzieścia trzy-czterysta pięćdziesiąt sześć-siedemset osiemdziesiąt dziewięć.\n",
      "Tekst po zmianie: Dzisiaj jest dwa tysiące dwudziesty czwarty rok, a dwadzieścia lat temu miało to miejsce w roku dwa tysiące czwartym. Mój numer telefonu to dziewięćset dziewięćdziesiąt dziewięć-sto dwadzieścia trzy-czterysta pięćdziesiąt sześć.\n"
     ]
    }
   ],
   "source": [
    "text = [\"Produkt kosztuje 100 złotych.\", \"Przejechaliśmy 500 km, a na mapie było zaznaczone 5 miejsc do odpoczynku. Mój adres to 123-456-789.\", \"Dzisiaj jest 2024 rok, a 20 lat temu miało to miejsce w roku 2004. Mój numer telefonu to 999-123-456.\"]\n",
    "\n",
    "\n",
    "swap1 = re.sub(r\"100\", \"sto\", text[0])\n",
    "swap2 = re.sub(r\"\\b500\\b\", \"pięćset\", text[1])\n",
    "swap2 = re.sub(r\"\\b5\\b\", \"pięć\", swap2)\n",
    "swap2 = re.sub(r\"123-456-789\", \"sto dwadzieścia trzy-czterysta pięćdziesiąt sześć-siedemset osiemdziesiąt dziewięć\", swap2)\n",
    "swap3 = re.sub(r\"\\b2024\\b\", \"dwa tysiące dwudziesty czwarty\", text[2])\n",
    "swap3 = re.sub(r\"\\b20\\b\", \"dwadzieścia\", swap3)\n",
    "swap3 = re.sub(r\"\\b2004\\b\", \"dwa tysiące czwartym\", swap3)\n",
    "swap3 = re.sub(r\"999-123-456\", \"dziewięćset dziewięćdziesiąt dziewięć-sto dwadzieścia trzy-czterysta pięćdziesiąt sześć\", swap3)\n",
    "\n",
    "swap = [swap1, swap2, swap3]\n",
    "\n",
    "for i in swap:\n",
    "    print(\"Tekst po zmianie:\", i)"
   ]
  },
  {
   "cell_type": "code",
   "execution_count": 80,
   "metadata": {},
   "outputs": [
    {
     "name": "stdout",
     "output_type": "stream",
     "text": [
      "Znaleziono poprawny numer telefonu: ['123-456-789']\n",
      "Znaleziono poprawny numer telefonu: ['123-456-789']\n",
      "Znaleziono poprawny numer telefonu: ['123-456-789']\n"
     ]
    }
   ],
   "source": [
    "text = [\"Mój numer telefonu to 123-456-789.\", \"Zadzwoń do mnie na numer 123-456-789 lub 987654321.\", \"Numer do kontaktu: 123-456-789, a dodatkowy to (123) 456-789.\"]\n",
    "for i in text:\n",
    "    telephone_number = re.findall(r\"\\d{3}-\\d{3}-\\d{3}\", i)\n",
    "    print(f\"Znaleziono poprawny numer telefonu: {telephone_number}\")\n"
   ]
  },
  {
   "cell_type": "code",
   "execution_count": 33,
   "metadata": {},
   "outputs": [
    {
     "name": "stdout",
     "output_type": "stream",
     "text": [
      "Znaleziono dopasowanie: ['Pojechaliśmy']\n",
      "Znaleziono dopasowanie: ['Pomimo']\n",
      "Znaleziono dopasowanie: ['Podróż', 'Pragi']\n"
     ]
    }
   ],
   "source": [
    "text = [\"Pojechaliśmy na piknik do parku.\", \"Pomimo że planowaliśmy piknik, pogoda popsuła nasze plany.\", \"Podróż do Pragi była pełna przygód, ale parking przy hotelu był płatny.\"]\n",
    "for i in text:\n",
    "    dopasowanie = re.findall(r\"\\b[P]\\w+\", i)\n",
    "\n",
    "    if dopasowanie:\n",
    "        print(\"Znaleziono dopasowanie:\", dopasowanie)\n",
    "    else:\n",
    "        print(\"Nie znaleziono dopasowania\")"
   ]
  },
  {
   "cell_type": "code",
   "execution_count": 39,
   "metadata": {},
   "outputs": [
    {
     "name": "stdout",
     "output_type": "stream",
     "text": [
      "Podzielone zdania: ['Idziemy na zakupy', ' potem do kina', '']\n",
      "Podzielone zdania: ['Plan na dzisiaj', ' zakupy', ' kino', ' może restauracja', ' Co Ty na to', '']\n",
      "Podzielone zdania: ['Przyjechałem', ' widziałem', '', '', ' i wygrałem', ' Ale czy to na pewno koniec', '']\n"
     ]
    }
   ],
   "source": [
    "text = [\"Idziemy na zakupy, potem do kina.\", \"Plan na dzisiaj: zakupy, kino, może restauracja? Co Ty na to?\", \"Przyjechałem, widziałem... i wygrałem! Ale czy to na pewno koniec?\"]\n",
    "for i in text:\n",
    "    dopasowanie = re.split('[.,:?!]', i)\n",
    "\n",
    "    if dopasowanie:\n",
    "        print(\"Podzielone zdania:\", dopasowanie)\n",
    "    else:\n",
    "        print(\"Brak podziału.\")"
   ]
  }
 ],
 "metadata": {
  "kernelspec": {
   "display_name": "Python 3",
   "language": "python",
   "name": "python3"
  },
  "language_info": {
   "codemirror_mode": {
    "name": "ipython",
    "version": 3
   },
   "file_extension": ".py",
   "mimetype": "text/x-python",
   "name": "python",
   "nbconvert_exporter": "python",
   "pygments_lexer": "ipython3",
   "version": "3.10.6"
  }
 },
 "nbformat": 4,
 "nbformat_minor": 2
}
